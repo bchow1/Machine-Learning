{
 "cells": [
  {
   "cell_type": "code",
   "execution_count": 51,
   "metadata": {
    "collapsed": true
   },
   "outputs": [],
   "source": [
    "sample_memo = '''\n",
    "Milt, we're gonna need to go ahead and move you downstairs into storage B. We have some new people coming in, and we need all the space we can get. So if you could just go ahead and pack up your stuff and move it down there, that would be terrific, OK?\n",
    "Oh, and remember: next Friday... is Hawaiian shirt day. So, you know, if you want to, go ahead and wear a Hawaiian shirt and jeans.\n",
    "Oh, oh, and I almost forgot. Ahh, I'm also gonna need you to go ahead and come in on Sunday, too...\n",
    "Hello Peter, whats happening? Ummm, I'm gonna need you to go ahead and come in tomorrow. So if you could be here around 9 that would be great, mmmk... oh oh! and I almost forgot ahh, I'm also gonna need you to go ahead and come in on Sunday too, kay. We ahh lost some people this week and ah, we sorta need to play catch up.\n",
    "'''"
   ]
  },
  {
   "cell_type": "code",
   "execution_count": 52,
   "metadata": {
    "collapsed": false
   },
   "outputs": [],
   "source": [
    "words = sample_memo.split()\n",
    "uniq_words = set(words)"
   ]
  },
  {
   "cell_type": "code",
   "execution_count": 53,
   "metadata": {
    "collapsed": false
   },
   "outputs": [
    {
     "name": "stdout",
     "output_type": "stream",
     "text": [
      "{'all': 0, 'just': 0, 'move': 0, 'Sunday': 0, 'go': 0, 'up.': 0, 'We': 0, 'to': 3, 'ahh': 0, 'around': 0, 'gonna': 0, 'tomorrow.': 0, \"I'm\": 0, 'great,': 0, 'lost': 0, 'B.': 0, 'stuff': 0, 'oh,': 0, 'people': 0, 'some': 0, 'OK?': 0, 'forgot': 0, 'Friday...': 0, 'Milt,': 0, 'Hawaiian': 0, 'space': 0, 'sorta': 0, 'day.': 0, 'ahh,': 0, 'too...': 0, 'new': 0, 'Oh,': 0, 'we': 0, 'here': 0, 'Ahh,': 0, 'wear': 0, 'mmmk...': 0, 'come': 0, 'Hello': 0, 'in,': 0, 'ahead': 0, 'oh': 0, 'could': 2, 'happening?': 0, 'whats': 0, 'too,': 0, 'terrific,': 0, 'down': 0, 'Sunday,': 0, 'know,': 1, 'your': 0, 'there,': 0, 'would': 0, 'next': 0, 'remember:': 0, \"we're\": 0, 'that': 0, 'ah,': 0, 'So': 0, 'catch': 0, 'be': 0, 'downstairs': 1, 'this': 0, 'up': 0, 'jeans.': 0, 'can': 0, 'to,': 0, 'pack': 0, 'and': 0, 'have': 0, 'almost': 0, 'is': 0, 'it': 0, 'want': 1, 'in': 0, 'need': 0, 'if': 0, 'shirt': 0, 'storage': 0, 'So,': 0, 'also': 0, '9': 0, 'you': 0, 'week': 0, 'play': 0, 'I': 0, 'oh!': 0, 'Peter,': 0, 'coming': 0, 'forgot.': 0, 'on': 0, 'Ummm,': 0, 'a': 0, 'kay.': 0, 'get.': 0, 'into': 0, 'the': 0}\n"
     ]
    }
   ],
   "source": [
    "wordFreq = {word:0 for word in uniq_words}\n",
    "for i in range(len(words)-1):\n",
    "    if words[i] == 'you':\n",
    "        wordFreq[words[i+1]] += 1\n",
    "print wordFreq"
   ]
  },
  {
   "cell_type": "code",
   "execution_count": 54,
   "metadata": {
    "collapsed": false
   },
   "outputs": [
    {
     "name": "stdout",
     "output_type": "stream",
     "text": [
      "1.0\n",
      "0.3 0.4 0.3\n"
     ]
    }
   ],
   "source": [
    "p_this = .4\n",
    "p_that = .3\n",
    "p_those = .3\n",
    "\n",
    "p_this_time = .6\n",
    "p_this_job = .4\n",
    "p_that_job = .8\n",
    "p_that_time = 0.2\n",
    "p_those_items = 1.\n",
    "\n",
    "\n",
    "p_2_time = p_this_time*p_this + p_that_time*p_that\n",
    "\n",
    "p_2_job = p_this_job*p_this + p_that_job*p_that\n",
    "\n",
    "p_2_items = p_those_items*p_those\n",
    "\n",
    "p_2 = p_2_time + p_2_job + p_2_items\n",
    "print p_2\n",
    "print p_2_time/p_2,p_2_job/p_2,p_2_items/p_2"
   ]
  },
  {
   "cell_type": "code",
   "execution_count": 48,
   "metadata": {
    "collapsed": false
   },
   "outputs": [
    {
     "name": "stdout",
     "output_type": "stream",
     "text": [
      "{'ahead:and:pack:up': 0.07692307692307693, 'ahead:and:jeans.': 0.07692307692307693, 'ahead:and:ah,': 0.07692307692307693, 'ahead:and:we:need': 0.02564102564102564, 'ahead:and:move:you': 0.07692307692307693, 'ahead:and': 1.0, 'ahead:and:we:can': 0.02564102564102564, 'ahead:and:remember:': 0.07692307692307693, 'ahead': 1, 'ahead:and:wear': 0.07692307692307693, 'ahead:and:jeans.:Oh,': 0.07692307692307693, 'ahead:and:move': 0.15384615384615385, 'ahead:and:I': 0.15384615384615385, 'ahead:and:pack': 0.07692307692307693, 'ahead:and:I:almost': 0.15384615384615385, 'ahead:and:remember::next': 0.07692307692307693, 'ahead:and:we': 0.07692307692307693, 'ahead:and:we:sorta': 0.02564102564102564, 'ahead:and:move:it': 0.07692307692307693, 'ahead:and:wear:a': 0.07692307692307693, 'ahead:and:come:in': 0.23076923076923078, 'ahead:and:ah,:we': 0.07692307692307693, 'ahead:and:come': 0.23076923076923078}\n",
      "0.0769230769231 jeans.\n",
      "0.153846153846 move\n",
      "0.230769230769 come\n",
      "{'we': 0.07692307692307693, 'jeans.': 0.07692307692307693, 'wear': 0.07692307692307693, 'I': 0.15384615384615385, 'move': 0.15384615384615385, 'come': 0.23076923076923078, 'ah,': 0.07692307692307693, 'pack': 0.07692307692307693}\n",
      "come\n"
     ]
    }
   ],
   "source": [
    "#------------------------------------------------------------------\n",
    "\n",
    "#\n",
    "#   Bayes Optimal Classifier\n",
    "#\n",
    "#   In this quiz we will compute the optimal label for a second missing word in a row\n",
    "#   based on the possible words that could be in the first blank\n",
    "#\n",
    "#   Finish the procedurce, LaterWords(), below\n",
    "#\n",
    "#   You may want to import your code from the previous programming exercise!\n",
    "#\n",
    "\n",
    "sample_memo = '''\n",
    "Milt, we're gonna need to go ahead and move you downstairs into storage B. We have some new people coming in, and we need all the space we can get. So if you could just go ahead and pack up your stuff and move it down there, that would be terrific, OK?\n",
    "Oh, and remember: next Friday... is Hawaiian shirt day. So, you know, if you want to, go ahead and wear a Hawaiian shirt and jeans.\n",
    "Oh, oh, and I almost forgot. Ahh, I'm also gonna need you to go ahead and come in on Sunday, too...\n",
    "Hello Peter, whats happening? Ummm, I'm gonna need you to go ahead and come in tomorrow. So if you could be here around 9 that would be great, mmmk... oh oh! and I almost forgot ahh, I'm also gonna need you to go ahead and come in on Sunday too, kay. We ahh lost some people this week and ah, we sorta need to play catch up.\n",
    "'''\n",
    "\n",
    "corrupted_memo = '''\n",
    "Yeah, I'm gonna --- you to go ahead --- --- complain about this. Oh, and if you could --- --- and sit at the kids' table, that'd be --- \n",
    "'''\n",
    "\n",
    "data_list = sample_memo.strip().split()\n",
    "\n",
    "words_to_guess = [\"ahead\",\"could\"]\n",
    "\n",
    "def wordFreq(sample,word,wordKey,wordList):\n",
    "    words = sample.strip().split()\n",
    "    wdFq  = {wd:0 for wd in set(words)}\n",
    "    for i in range(len(words)-1):\n",
    "        if words[i] == word:\n",
    "            wdFq[words[i+1]] += 1\n",
    "    tot = 0\n",
    "    for key,value in wdFq.items():\n",
    "        if value > 0:\n",
    "            tot += wdFq[key]\n",
    "        else:\n",
    "            del wdFq[key]\n",
    "    for key,value in wdFq.items():\n",
    "        wdFq[key] = float(wdFq[key])/float(tot)\n",
    "        word_next_key = wordKey + ':' + key\n",
    "        wordList.update({word_next_key:wordList[wordKey]*wdFq[key]})\n",
    "    return wdFq\n",
    "\n",
    "def getNext(sample,word,wordKey,wordList,nextWordDict,dist,maxDist):\n",
    "    if word not in nextWordDict:\n",
    "         nextWordDict.update({word:wordFreq(sample,word,wordKey,wordList)})\n",
    "    for nextWord in nextWordDict[word]:\n",
    "        word_next_key = wordKey + ':' + nextWord\n",
    "        if dist < maxDist:\n",
    "            getNext(sample,nextWord,word_next_key,wordList,nextWordDict,dist+1,maxDist)\n",
    "    return\n",
    "\n",
    "def LaterWords(sample,word,distance):\n",
    "    \n",
    "    '''@param sample: a sample of text to draw from\n",
    "    @param word: a word occuring before a corrupted sequence\n",
    "    @param distance: how many words later to estimate (i.e. 1 for the next word, 2 for the word after that)\n",
    "    @returns: a single word which is the most likely possibility\n",
    "    '''\n",
    "    \n",
    "    # TODO: Given a word, collect the relative probabilities of possible following words\n",
    "    # from @sample. You may want to import your code from the maximum likelihood exercise.\n",
    "    \n",
    "    wordList = {word:1}\n",
    "    nextWordDict = {word:wordFreq(sample,word,word,wordList)}\n",
    "    \n",
    "    # TODO: Repeat the above process--for each distance beyond 1, evaluate the words that\n",
    "    # might come after each word, and combine them weighting by relative probability\n",
    "    # into an estimate of what might appear next.\n",
    "    \n",
    "    \n",
    "    #print wordList\n",
    "    getNext(sample,word,word,wordList,nextWordDict,0,distance)\n",
    "    \n",
    "    print wordList\n",
    "\n",
    "    lw = {}\n",
    "    mp = 0.\n",
    "    for key,prob in wordList.items():\n",
    "        if len(key.split(':')) == distance+1:\n",
    "            lw.update({key.split(':')[distance]:prob})\n",
    "            if prob > mp:\n",
    "                mp = prob\n",
    "                nw = key.split(':')[distance]\n",
    "                print mp,nw\n",
    "    print lw\n",
    "    return nw\n",
    "    \n",
    "print LaterWords(sample_memo,\"ahead\",2)\n",
    "#print LaterWords(sample_memo,\"and\",2)\n",
    "#print LaterWords(sample_memo,\"need\",2)"
   ]
  },
  {
   "cell_type": "code",
   "execution_count": null,
   "metadata": {
    "collapsed": true
   },
   "outputs": [],
   "source": [
    "'''\n",
    "You guessed go after need, where we guessed ['to'].\n",
    "Here was our whole calculation: {'play': 2, 'could': 6, 'to': 9, 'want': 3, 'go': 8, 'the': 1, 'downstairs': 3, 'know,': 3} [[9, 'to'], [8, 'go'], [6, 'could'], [3, 'want'], [3, 'know,'], [3, 'downstairs'], [2, 'play'], [1, 'the']]\n",
    "'''"
   ]
  }
 ],
 "metadata": {
  "anaconda-cloud": {},
  "kernelspec": {
   "display_name": "Python [conda root]",
   "language": "python",
   "name": "conda-root-py"
  },
  "language_info": {
   "codemirror_mode": {
    "name": "ipython",
    "version": 2
   },
   "file_extension": ".py",
   "mimetype": "text/x-python",
   "name": "python",
   "nbconvert_exporter": "python",
   "pygments_lexer": "ipython2",
   "version": "2.7.12"
  }
 },
 "nbformat": 4,
 "nbformat_minor": 1
}
