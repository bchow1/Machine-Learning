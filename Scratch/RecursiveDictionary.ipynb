{
 "cells": [
  {
   "cell_type": "code",
   "execution_count": 23,
   "metadata": {
    "collapsed": false
   },
   "outputs": [
    {
     "name": "stdout",
     "output_type": "stream",
     "text": [
      "{0: {}, 1: {}}\n"
     ]
    }
   ],
   "source": [
    "distance = 2\n",
    "\n",
    "wordList = {}\n",
    "for dist in range(distance):\n",
    "    wordList.update({dist:{}})\n",
    "print wordList"
   ]
  },
  {
   "cell_type": "code",
   "execution_count": 24,
   "metadata": {
    "collapsed": false
   },
   "outputs": [
    {
     "name": "stdout",
     "output_type": "stream",
     "text": [
      "{'A': ['B', 'C'], 'C': None, 'B': 'D', 'D': None}\n"
     ]
    }
   ],
   "source": [
    "nextWord = {\"A\":[\"B\",\"C\"],\"B\":\"D\",\"C\":None,\"D\":None}\n",
    "print nextWord"
   ]
  },
  {
   "cell_type": "code",
   "execution_count": 25,
   "metadata": {
    "collapsed": false
   },
   "outputs": [
    {
     "name": "stdout",
     "output_type": "stream",
     "text": [
      "A:B\n",
      "A:B:D\n",
      "A:C\n",
      "{0: {'A:B': 0, 'A:C': 0}, 1: {'A:B:D': 0}}\n"
     ]
    }
   ],
   "source": [
    "maxDist = 2\n",
    "def getNext(w,wkey,dist):\n",
    "    if nextWord[w] is not None:\n",
    "        for n in nextWord[w]:\n",
    "            key = wkey + ':' + n\n",
    "            print key\n",
    "            wordList[dist].update({key:0})\n",
    "            if dist < maxDist:\n",
    "                getNext(n,key,dist+1)\n",
    "    return wordList\n",
    "print getNext(\"A\",\"A\",0)"
   ]
  }
 ],
 "metadata": {
  "kernelspec": {
   "display_name": "Python [conda root]",
   "language": "python",
   "name": "conda-root-py"
  },
  "language_info": {
   "codemirror_mode": {
    "name": "ipython",
    "version": 2
   },
   "file_extension": ".py",
   "mimetype": "text/x-python",
   "name": "python",
   "nbconvert_exporter": "python",
   "pygments_lexer": "ipython2",
   "version": "2.7.12"
  }
 },
 "nbformat": 4,
 "nbformat_minor": 1
}
