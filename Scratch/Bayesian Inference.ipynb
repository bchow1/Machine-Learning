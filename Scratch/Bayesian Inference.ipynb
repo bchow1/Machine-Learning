{
 "cells": [
  {
   "cell_type": "code",
   "execution_count": 44,
   "metadata": {
    "collapsed": false
   },
   "outputs": [
    {
     "name": "stdout",
     "output_type": "stream",
     "text": [
      " 2 ['a', 'b', 'c']\n",
      "3 ['d', 'e', 'f']\n",
      "4 ['g', 'h', 'i']\n",
      "5 ['j', 'k', 'l']\n",
      "6 ['m', 'n', 'o']\n",
      "7 ['p', 'q', 'r', 's']\n",
      "8 ['t', 'u', 'v']\n",
      "9 ['w', 'x', 'y', 'z']\n"
     ]
    }
   ],
   "source": [
    "import string\n",
    "alphabets = [s for s in string.ascii_lowercase]\n",
    "num = {}\n",
    "i0 = 0\n",
    "for i in range(2,10):\n",
    "  if i==7 or i==9:\n",
    "    n = 4\n",
    "  else:\n",
    "    n = 3\n",
    "  num.update({i:[alphabets[i0+j] for j in range(n)]})\n",
    "  i0 += n\n",
    "  print i,num[i]"
   ]
  },
  {
   "cell_type": "code",
   "execution_count": 50,
   "metadata": {
    "collapsed": true
   },
   "outputs": [],
   "source": [
    "def getalpha(ar1,ar2):\n",
    "    rList = []\n",
    "    for a1 in ar1:\n",
    "        for a2 in ar2:\n",
    "            rList.append(a1+a2)\n",
    "    return rList"
   ]
  },
  {
   "cell_type": "code",
   "execution_count": 54,
   "metadata": {
    "collapsed": false
   },
   "outputs": [
    {
     "name": "stdout",
     "output_type": "stream",
     "text": [
      "['gpt', 'gpu', 'gpv', 'gqt', 'gqu', 'gqv', 'grt', 'gru', 'grv', 'gst', 'gsu', 'gsv', 'hpt', 'hpu', 'hpv', 'hqt', 'hqu', 'hqv', 'hrt', 'hru', 'hrv', 'hst', 'hsu', 'hsv', 'ipt', 'ipu', 'ipv', 'iqt', 'iqu', 'iqv', 'irt', 'iru', 'irv', 'ist', 'isu', 'isv']\n"
     ]
    }
   ],
   "source": [
    "ll = str(478)\n",
    "llist = [int(s) for s in ll]\n",
    "rList = num[llist[0]]\n",
    "for ll in llist[1:]:\n",
    "    rList = getalpha(rList, num[ll])\n",
    "print rList"
   ]
  },
  {
   "cell_type": "code",
   "execution_count": 58,
   "metadata": {
    "collapsed": true
   },
   "outputs": [
    {
     "name": "stdout",
     "output_type": "stream",
     "text": [
      "Help on class product in module itertools:\n",
      "\n",
      "class product(__builtin__.object)\n",
      " |  product(*iterables) --> product object\n",
      " |  \n",
      " |  Cartesian product of input iterables.  Equivalent to nested for-loops.\n",
      " |  \n",
      " |  For example, product(A, B) returns the same as:  ((x,y) for x in A for y in B).\n",
      " |  The leftmost iterators are in the outermost for-loop, so the output tuples\n",
      " |  cycle in a manner similar to an odometer (with the rightmost element changing\n",
      " |  on every iteration).\n",
      " |  \n",
      " |  To compute the product of an iterable with itself, specify the number\n",
      " |  of repetitions with the optional repeat keyword argument. For example,\n",
      " |  product(A, repeat=4) means the same as product(A, A, A, A).\n",
      " |  \n",
      " |  product('ab', range(3)) --> ('a',0) ('a',1) ('a',2) ('b',0) ('b',1) ('b',2)\n",
      " |  product((0,1), (0,1), (0,1)) --> (0,0,0) (0,0,1) (0,1,0) (0,1,1) (1,0,0) ...\n",
      " |  \n",
      " |  Methods defined here:\n",
      " |  \n",
      " |  __getattribute__(...)\n",
      " |      x.__getattribute__('name') <==> x.name\n",
      " |  \n",
      " |  __iter__(...)\n",
      " |      x.__iter__() <==> iter(x)\n",
      " |  \n",
      " |  next(...)\n",
      " |      x.next() -> the next value, or raise StopIteration\n",
      " |  \n",
      " |  ----------------------------------------------------------------------\n",
      " |  Data and other attributes defined here:\n",
      " |  \n",
      " |  __new__ = <built-in method __new__ of type object>\n",
      " |      T.__new__(S, ...) -> a new object with type S, a subtype of T\n",
      "\n"
     ]
    }
   ],
   "source": [
    "from itertools import product\n",
    "help(product)"
   ]
  },
  {
   "cell_type": "code",
   "execution_count": 62,
   "metadata": {
    "collapsed": false
   },
   "outputs": [
    {
     "name": "stdout",
     "output_type": "stream",
     "text": [
      "['g|t', 'g|u', 'g|v', 'h|t', 'h|u', 'h|v', 'i|t', 'i|u', 'i|v']\n"
     ]
    }
   ],
   "source": [
    "charArr = ['ghi','tuv']\n",
    "print [\"|\".join(s) for s in product(*charArr) if s]"
   ]
  },
  {
   "cell_type": "code",
   "execution_count": 64,
   "metadata": {
    "collapsed": false
   },
   "outputs": [
    {
     "data": {
      "text/plain": [
       "0.14285714285714288"
      ]
     },
     "execution_count": 64,
     "metadata": {},
     "output_type": "execute_result"
    }
   ],
   "source": [
    "0.05/0.35"
   ]
  },
  {
   "cell_type": "code",
   "execution_count": null,
   "metadata": {
    "collapsed": true
   },
   "outputs": [],
   "source": []
  }
 ],
 "metadata": {
  "anaconda-cloud": {},
  "kernelspec": {
   "display_name": "Python [conda root]",
   "language": "python",
   "name": "conda-root-py"
  },
  "language_info": {
   "codemirror_mode": {
    "name": "ipython",
    "version": 2
   },
   "file_extension": ".py",
   "mimetype": "text/x-python",
   "name": "python",
   "nbconvert_exporter": "python",
   "pygments_lexer": "ipython2",
   "version": "2.7.12"
  }
 },
 "nbformat": 4,
 "nbformat_minor": 1
}
